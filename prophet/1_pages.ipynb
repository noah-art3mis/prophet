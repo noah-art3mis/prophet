{
 "cells": [
  {
   "cell_type": "code",
   "execution_count": 51,
   "metadata": {},
   "outputs": [],
   "source": [
    "import pathlib\n",
    "import pandas as pd\n",
    "import numpy as np\n",
    "from langchain_community.document_loaders import PyPDFLoader\n",
    "from book_registry import books\n",
    "\n",
    "loader = PyPDFLoader(\"../data/unstructured/easy_ocr/book-5.pdf\")\n",
    "pages = loader.load()"
   ]
  },
  {
   "cell_type": "code",
   "execution_count": 52,
   "metadata": {},
   "outputs": [],
   "source": [
    "new_pages = []\n",
    "for page in pages:\n",
    "    file_name = pathlib.Path(page.metadata[\"source\"]).stem\n",
    "    page_number = page.metadata[\"page\"]\n",
    "    content = page.page_content\n",
    "    new_pages.append(pd.Series([file_name, page_number, content]))"
   ]
  },
  {
   "cell_type": "code",
   "execution_count": 53,
   "metadata": {},
   "outputs": [
    {
     "data": {
      "text/html": [
       "<div>\n",
       "<style scoped>\n",
       "    .dataframe tbody tr th:only-of-type {\n",
       "        vertical-align: middle;\n",
       "    }\n",
       "\n",
       "    .dataframe tbody tr th {\n",
       "        vertical-align: top;\n",
       "    }\n",
       "\n",
       "    .dataframe thead th {\n",
       "        text-align: right;\n",
       "    }\n",
       "</style>\n",
       "<table border=\"1\" class=\"dataframe\">\n",
       "  <thead>\n",
       "    <tr style=\"text-align: right;\">\n",
       "      <th></th>\n",
       "      <th>book</th>\n",
       "      <th>page</th>\n",
       "      <th>content</th>\n",
       "    </tr>\n",
       "  </thead>\n",
       "  <tbody>\n",
       "    <tr>\n",
       "      <th>0</th>\n",
       "      <td>book-5</td>\n",
       "      <td>0</td>\n",
       "      <td>\\n \\nTHE SEMINAR OF JACQUES LACAN \\n \\n \\nBOOK V  \\n \\n \\nTHE FORMATIONS OF...</td>\n",
       "    </tr>\n",
       "    <tr>\n",
       "      <th>1</th>\n",
       "      <td>book-5</td>\n",
       "      <td>1</td>\n",
       "      <td>6.11.1957(1)                                               1  \\n \\nSeminar 1...</td>\n",
       "    </tr>\n",
       "    <tr>\n",
       "      <th>2</th>\n",
       "      <td>book-5</td>\n",
       "      <td>2</td>\n",
       "      <td>6.11.1957(1)                                               2  \\n \\n \\nhttp:/...</td>\n",
       "    </tr>\n",
       "    <tr>\n",
       "      <th>3</th>\n",
       "      <td>book-5</td>\n",
       "      <td>3</td>\n",
       "      <td>6.11.1957(1)                                               3  \\n \\nLet me re...</td>\n",
       "    </tr>\n",
       "    <tr>\n",
       "      <th>4</th>\n",
       "      <td>book-5</td>\n",
       "      <td>4</td>\n",
       "      <td>6.11.1957(1)                                               4  \\n \\npoint is ...</td>\n",
       "    </tr>\n",
       "    <tr>\n",
       "      <th>...</th>\n",
       "      <td>...</td>\n",
       "      <td>...</td>\n",
       "      <td>...</td>\n",
       "    </tr>\n",
       "    <tr>\n",
       "      <th>377</th>\n",
       "      <td>book-5</td>\n",
       "      <td>377</td>\n",
       "      <td>2.7.1958 (28)                                              377  \\n \\nhorizon...</td>\n",
       "    </tr>\n",
       "    <tr>\n",
       "      <th>378</th>\n",
       "      <td>book-5</td>\n",
       "      <td>378</td>\n",
       "      <td>2.7.1958 (28)                                              378  \\n \\nThe Chr...</td>\n",
       "    </tr>\n",
       "    <tr>\n",
       "      <th>379</th>\n",
       "      <td>book-5</td>\n",
       "      <td>379</td>\n",
       "      <td>2.7.1958 (28)                                              379  \\n \\nIt is o...</td>\n",
       "    </tr>\n",
       "    <tr>\n",
       "      <th>380</th>\n",
       "      <td>book-5</td>\n",
       "      <td>380</td>\n",
       "      <td>2.7.1958 (28)                                              380  \\n \\nBut I w...</td>\n",
       "    </tr>\n",
       "    <tr>\n",
       "      <th>381</th>\n",
       "      <td>book-5</td>\n",
       "      <td>381</td>\n",
       "      <td>2.7.1958 (28)                                              381  \\n \\nfirst p...</td>\n",
       "    </tr>\n",
       "  </tbody>\n",
       "</table>\n",
       "<p>382 rows × 3 columns</p>\n",
       "</div>"
      ],
      "text/plain": [
       "       book  page  \\\n",
       "0    book-5     0   \n",
       "1    book-5     1   \n",
       "2    book-5     2   \n",
       "3    book-5     3   \n",
       "4    book-5     4   \n",
       "..      ...   ...   \n",
       "377  book-5   377   \n",
       "378  book-5   378   \n",
       "379  book-5   379   \n",
       "380  book-5   380   \n",
       "381  book-5   381   \n",
       "\n",
       "                                                                             content  \n",
       "0     \\n \\nTHE SEMINAR OF JACQUES LACAN \\n \\n \\nBOOK V  \\n \\n \\nTHE FORMATIONS OF...  \n",
       "1    6.11.1957(1)                                               1  \\n \\nSeminar 1...  \n",
       "2    6.11.1957(1)                                               2  \\n \\n \\nhttp:/...  \n",
       "3    6.11.1957(1)                                               3  \\n \\nLet me re...  \n",
       "4    6.11.1957(1)                                               4  \\n \\npoint is ...  \n",
       "..                                                                               ...  \n",
       "377  2.7.1958 (28)                                              377  \\n \\nhorizon...  \n",
       "378  2.7.1958 (28)                                              378  \\n \\nThe Chr...  \n",
       "379  2.7.1958 (28)                                              379  \\n \\nIt is o...  \n",
       "380  2.7.1958 (28)                                              380  \\n \\nBut I w...  \n",
       "381  2.7.1958 (28)                                              381  \\n \\nfirst p...  \n",
       "\n",
       "[382 rows x 3 columns]"
      ]
     },
     "execution_count": 53,
     "metadata": {},
     "output_type": "execute_result"
    }
   ],
   "source": [
    "df = pd.DataFrame(new_pages)\n",
    "df.rename(columns={0: \"book\", 1: \"page\", 2: \"content\"}, inplace=True)\n",
    "df"
   ]
  },
  {
   "cell_type": "markdown",
   "metadata": {},
   "source": [
    "Drop front matter"
   ]
  },
  {
   "cell_type": "code",
   "execution_count": 54,
   "metadata": {},
   "outputs": [],
   "source": [
    "df = df.drop(df.index[0])"
   ]
  },
  {
   "cell_type": "markdown",
   "metadata": {},
   "source": [
    "Get chapters and dates from running head"
   ]
  },
  {
   "cell_type": "code",
   "execution_count": 55,
   "metadata": {},
   "outputs": [],
   "source": [
    "regex_date = r\"(\\d{1,2}\\.\\d{1,2}\\.\\d{2,4})\\s*\\(\\d+\\)\"\n",
    "regex_chapter = r\"\\d{1,2}\\.\\d{1,2}\\.\\d{2,4}\\s*(\\(\\d+\\))\"\n",
    "\n",
    "df[\"date\"] = df[\"content\"].str.extract(regex_date)\n",
    "df[\"chapter\"] = df[\"content\"].str.extract(regex_chapter, expand=False)"
   ]
  },
  {
   "cell_type": "code",
   "execution_count": 56,
   "metadata": {},
   "outputs": [],
   "source": [
    "df[\"date\"] = df[\"date\"].ffill()\n",
    "df[\"chapter\"] = df[\"chapter\"].ffill()"
   ]
  },
  {
   "cell_type": "code",
   "execution_count": 57,
   "metadata": {},
   "outputs": [],
   "source": [
    "df[\"chapter\"] = df[\"chapter\"].str.strip(\"()\")"
   ]
  },
  {
   "cell_type": "markdown",
   "metadata": {},
   "source": [
    "## Content Cleanup\n",
    "\n",
    "```\n",
    "removal of noise: hashtags, unicode, html, line breaks, segmentation, emoji, abbreviations, slang, elongated, typos, contractions, punctuation, numbers, lowercaseing, stopwords, stemming , lemmatization, pos, negations\n",
    "```\n",
    "\n",
    "Removed:\n",
    "\n",
    "-   header\n",
    "-   footer\n",
    "-   line breaks\n",
    "-   double spaces\n"
   ]
  },
  {
   "cell_type": "code",
   "execution_count": 58,
   "metadata": {},
   "outputs": [],
   "source": [
    "header = r\"\\d{1,2}\\.\\d{1,2}\\.\\d{2,4}\\s*\\(\\d+\\)\\s+\\d+\"\n",
    "footer = r\"http://www.lacaninireland.com\"\n",
    "\n",
    "df[\"content\"] = df[\"content\"].str.replace(header, \"\", regex=True)\n",
    "df[\"content\"] = df[\"content\"].str.replace(footer, \"\")\n",
    "df[\"content\"] = df[\"content\"].str.replace(\"\\n\", \"\")\n",
    "df[\"content\"] = df[\"content\"].str.replace(r\"\\s+\", \" \", regex=True)"
   ]
  },
  {
   "cell_type": "code",
   "execution_count": 59,
   "metadata": {},
   "outputs": [],
   "source": [
    "# bugs\n",
    "# pattern_s = r\"Seminar .* \\d{4}\"\n",
    "# df[df[\"content\"].str.contains(pattern_s)][\"content\"]\n",
    "# df[\"content\"] = df[\"content\"].str.replace(pattern_s, \"\", regex=True)"
   ]
  },
  {
   "cell_type": "markdown",
   "metadata": {},
   "source": [
    "Categories\n"
   ]
  },
  {
   "cell_type": "code",
   "execution_count": 60,
   "metadata": {},
   "outputs": [],
   "source": [
    "df.reset_index(inplace=True, drop=True)"
   ]
  },
  {
   "cell_type": "code",
   "execution_count": 61,
   "metadata": {},
   "outputs": [
    {
     "data": {
      "text/plain": [
       "Index          128\n",
       "book         24003\n",
       "page          3048\n",
       "content    1511199\n",
       "date         24506\n",
       "chapter      22352\n",
       "dtype: int64"
      ]
     },
     "execution_count": 61,
     "metadata": {},
     "output_type": "execute_result"
    }
   ],
   "source": [
    "df.memory_usage(deep=True)"
   ]
  },
  {
   "cell_type": "code",
   "execution_count": 62,
   "metadata": {},
   "outputs": [
    {
     "data": {
      "text/plain": [
       "book       object\n",
       "page        int64\n",
       "content    object\n",
       "date       object\n",
       "chapter    object\n",
       "dtype: object"
      ]
     },
     "execution_count": 62,
     "metadata": {},
     "output_type": "execute_result"
    }
   ],
   "source": [
    "df.dtypes"
   ]
  },
  {
   "cell_type": "code",
   "execution_count": 63,
   "metadata": {},
   "outputs": [],
   "source": [
    "df[\"book\"] = df[\"book\"].astype(\"category\")"
   ]
  },
  {
   "cell_type": "code",
   "execution_count": 64,
   "metadata": {},
   "outputs": [],
   "source": [
    "df[\"chapter\"] = pd.to_numeric(df[\"chapter\"])"
   ]
  },
  {
   "cell_type": "code",
   "execution_count": 65,
   "metadata": {},
   "outputs": [],
   "source": [
    "df[\"date\"] = pd.to_datetime(df[\"date\"], format=\"mixed\", dayfirst=True)"
   ]
  },
  {
   "cell_type": "code",
   "execution_count": 66,
   "metadata": {},
   "outputs": [
    {
     "data": {
      "text/html": [
       "<div>\n",
       "<style scoped>\n",
       "    .dataframe tbody tr th:only-of-type {\n",
       "        vertical-align: middle;\n",
       "    }\n",
       "\n",
       "    .dataframe tbody tr th {\n",
       "        vertical-align: top;\n",
       "    }\n",
       "\n",
       "    .dataframe thead th {\n",
       "        text-align: right;\n",
       "    }\n",
       "</style>\n",
       "<table border=\"1\" class=\"dataframe\">\n",
       "  <thead>\n",
       "    <tr style=\"text-align: right;\">\n",
       "      <th></th>\n",
       "      <th>book</th>\n",
       "      <th>page</th>\n",
       "      <th>content</th>\n",
       "      <th>date</th>\n",
       "      <th>chapter</th>\n",
       "    </tr>\n",
       "  </thead>\n",
       "  <tbody>\n",
       "    <tr>\n",
       "      <th>0</th>\n",
       "      <td>book-5</td>\n",
       "      <td>1</td>\n",
       "      <td>Seminar 1 : Wednesday 6 November 1957 This year we have taken the formation...</td>\n",
       "      <td>1957-11-06</td>\n",
       "      <td>1</td>\n",
       "    </tr>\n",
       "    <tr>\n",
       "      <th>1</th>\n",
       "      <td>book-5</td>\n",
       "      <td>2</td>\n",
       "      <td></td>\n",
       "      <td>1957-11-06</td>\n",
       "      <td>1</td>\n",
       "    </tr>\n",
       "    <tr>\n",
       "      <th>2</th>\n",
       "      <td>book-5</td>\n",
       "      <td>3</td>\n",
       "      <td>Let me remind you then in the first place, since I have given you my three ...</td>\n",
       "      <td>1957-11-06</td>\n",
       "      <td>1</td>\n",
       "    </tr>\n",
       "    <tr>\n",
       "      <th>3</th>\n",
       "      <td>book-5</td>\n",
       "      <td>4</td>\n",
       "      <td>point is essentially based on the principle of beginning with complex struc...</td>\n",
       "      <td>1957-11-06</td>\n",
       "      <td>1</td>\n",
       "    </tr>\n",
       "    <tr>\n",
       "      <th>4</th>\n",
       "      <td>book-5</td>\n",
       "      <td>5</td>\n",
       "      <td>promise of heaven\", and \"why do you give up\". The term heaven and some othe...</td>\n",
       "      <td>1957-11-06</td>\n",
       "      <td>1</td>\n",
       "    </tr>\n",
       "    <tr>\n",
       "      <th>...</th>\n",
       "      <td>...</td>\n",
       "      <td>...</td>\n",
       "      <td>...</td>\n",
       "      <td>...</td>\n",
       "      <td>...</td>\n",
       "    </tr>\n",
       "    <tr>\n",
       "      <th>376</th>\n",
       "      <td>book-5</td>\n",
       "      <td>377</td>\n",
       "      <td>horizon of the word, and not in its immediacy, we would not have an obsessi...</td>\n",
       "      <td>1958-07-02</td>\n",
       "      <td>28</td>\n",
       "    </tr>\n",
       "    <tr>\n",
       "      <th>377</th>\n",
       "      <td>book-5</td>\n",
       "      <td>378</td>\n",
       "      <td>The Christian logos in so far as he is the incarnate logos , gives a precis...</td>\n",
       "      <td>1958-07-02</td>\n",
       "      <td>28</td>\n",
       "    </tr>\n",
       "    <tr>\n",
       "      <th>378</th>\n",
       "      <td>book-5</td>\n",
       "      <td>379</td>\n",
       "      <td>It is one way of reasoning. But on the other hand if one observes the extre...</td>\n",
       "      <td>1958-07-02</td>\n",
       "      <td>28</td>\n",
       "    </tr>\n",
       "    <tr>\n",
       "      <th>379</th>\n",
       "      <td>book-5</td>\n",
       "      <td>380</td>\n",
       "      <td>But I would say that by operating in this way, namely by legitimating when ...</td>\n",
       "      <td>1958-07-02</td>\n",
       "      <td>28</td>\n",
       "    </tr>\n",
       "    <tr>\n",
       "      <th>380</th>\n",
       "      <td>book-5</td>\n",
       "      <td>381</td>\n",
       "      <td>first person, no one ever supposed that to this \"Thou shalt love thy neighb...</td>\n",
       "      <td>1958-07-02</td>\n",
       "      <td>28</td>\n",
       "    </tr>\n",
       "  </tbody>\n",
       "</table>\n",
       "<p>381 rows × 5 columns</p>\n",
       "</div>"
      ],
      "text/plain": [
       "       book  page  \\\n",
       "0    book-5     1   \n",
       "1    book-5     2   \n",
       "2    book-5     3   \n",
       "3    book-5     4   \n",
       "4    book-5     5   \n",
       "..      ...   ...   \n",
       "376  book-5   377   \n",
       "377  book-5   378   \n",
       "378  book-5   379   \n",
       "379  book-5   380   \n",
       "380  book-5   381   \n",
       "\n",
       "                                                                             content  \\\n",
       "0     Seminar 1 : Wednesday 6 November 1957 This year we have taken the formation...   \n",
       "1                                                                                      \n",
       "2     Let me remind you then in the first place, since I have given you my three ...   \n",
       "3     point is essentially based on the principle of beginning with complex struc...   \n",
       "4     promise of heaven\", and \"why do you give up\". The term heaven and some othe...   \n",
       "..                                                                               ...   \n",
       "376   horizon of the word, and not in its immediacy, we would not have an obsessi...   \n",
       "377   The Christian logos in so far as he is the incarnate logos , gives a precis...   \n",
       "378   It is one way of reasoning. But on the other hand if one observes the extre...   \n",
       "379   But I would say that by operating in this way, namely by legitimating when ...   \n",
       "380   first person, no one ever supposed that to this \"Thou shalt love thy neighb...   \n",
       "\n",
       "          date  chapter  \n",
       "0   1957-11-06        1  \n",
       "1   1957-11-06        1  \n",
       "2   1957-11-06        1  \n",
       "3   1957-11-06        1  \n",
       "4   1957-11-06        1  \n",
       "..         ...      ...  \n",
       "376 1958-07-02       28  \n",
       "377 1958-07-02       28  \n",
       "378 1958-07-02       28  \n",
       "379 1958-07-02       28  \n",
       "380 1958-07-02       28  \n",
       "\n",
       "[381 rows x 5 columns]"
      ]
     },
     "execution_count": 66,
     "metadata": {},
     "output_type": "execute_result"
    }
   ],
   "source": [
    "df"
   ]
  },
  {
   "cell_type": "markdown",
   "metadata": {},
   "source": [
    "## Saving\n"
   ]
  },
  {
   "cell_type": "code",
   "execution_count": 67,
   "metadata": {},
   "outputs": [
    {
     "data": {
      "text/plain": [
       "Index          128\n",
       "book           552\n",
       "page          3048\n",
       "content    1511199\n",
       "date          3048\n",
       "chapter       3048\n",
       "dtype: int64"
      ]
     },
     "execution_count": 67,
     "metadata": {},
     "output_type": "execute_result"
    }
   ],
   "source": [
    "df.memory_usage(deep=True)"
   ]
  },
  {
   "cell_type": "code",
   "execution_count": 68,
   "metadata": {},
   "outputs": [
    {
     "data": {
      "text/plain": [
       "book             category\n",
       "page                int64\n",
       "content            object\n",
       "date       datetime64[ns]\n",
       "chapter             int64\n",
       "dtype: object"
      ]
     },
     "execution_count": 68,
     "metadata": {},
     "output_type": "execute_result"
    }
   ],
   "source": [
    "df.dtypes"
   ]
  },
  {
   "cell_type": "code",
   "execution_count": 69,
   "metadata": {},
   "outputs": [
    {
     "data": {
      "text/html": [
       "<div>\n",
       "<style scoped>\n",
       "    .dataframe tbody tr th:only-of-type {\n",
       "        vertical-align: middle;\n",
       "    }\n",
       "\n",
       "    .dataframe tbody tr th {\n",
       "        vertical-align: top;\n",
       "    }\n",
       "\n",
       "    .dataframe thead th {\n",
       "        text-align: right;\n",
       "    }\n",
       "</style>\n",
       "<table border=\"1\" class=\"dataframe\">\n",
       "  <thead>\n",
       "    <tr style=\"text-align: right;\">\n",
       "      <th></th>\n",
       "      <th>book</th>\n",
       "      <th>page</th>\n",
       "      <th>content</th>\n",
       "      <th>date</th>\n",
       "      <th>chapter</th>\n",
       "    </tr>\n",
       "  </thead>\n",
       "  <tbody>\n",
       "    <tr>\n",
       "      <th>0</th>\n",
       "      <td>book-5</td>\n",
       "      <td>1</td>\n",
       "      <td>Seminar 1 : Wednesday 6 November 1957 This year we have taken the formation...</td>\n",
       "      <td>1957-11-06</td>\n",
       "      <td>1</td>\n",
       "    </tr>\n",
       "    <tr>\n",
       "      <th>1</th>\n",
       "      <td>book-5</td>\n",
       "      <td>2</td>\n",
       "      <td></td>\n",
       "      <td>1957-11-06</td>\n",
       "      <td>1</td>\n",
       "    </tr>\n",
       "    <tr>\n",
       "      <th>2</th>\n",
       "      <td>book-5</td>\n",
       "      <td>3</td>\n",
       "      <td>Let me remind you then in the first place, since I have given you my three ...</td>\n",
       "      <td>1957-11-06</td>\n",
       "      <td>1</td>\n",
       "    </tr>\n",
       "    <tr>\n",
       "      <th>3</th>\n",
       "      <td>book-5</td>\n",
       "      <td>4</td>\n",
       "      <td>point is essentially based on the principle of beginning with complex struc...</td>\n",
       "      <td>1957-11-06</td>\n",
       "      <td>1</td>\n",
       "    </tr>\n",
       "    <tr>\n",
       "      <th>4</th>\n",
       "      <td>book-5</td>\n",
       "      <td>5</td>\n",
       "      <td>promise of heaven\", and \"why do you give up\". The term heaven and some othe...</td>\n",
       "      <td>1957-11-06</td>\n",
       "      <td>1</td>\n",
       "    </tr>\n",
       "    <tr>\n",
       "      <th>...</th>\n",
       "      <td>...</td>\n",
       "      <td>...</td>\n",
       "      <td>...</td>\n",
       "      <td>...</td>\n",
       "      <td>...</td>\n",
       "    </tr>\n",
       "    <tr>\n",
       "      <th>376</th>\n",
       "      <td>book-5</td>\n",
       "      <td>377</td>\n",
       "      <td>horizon of the word, and not in its immediacy, we would not have an obsessi...</td>\n",
       "      <td>1958-07-02</td>\n",
       "      <td>28</td>\n",
       "    </tr>\n",
       "    <tr>\n",
       "      <th>377</th>\n",
       "      <td>book-5</td>\n",
       "      <td>378</td>\n",
       "      <td>The Christian logos in so far as he is the incarnate logos , gives a precis...</td>\n",
       "      <td>1958-07-02</td>\n",
       "      <td>28</td>\n",
       "    </tr>\n",
       "    <tr>\n",
       "      <th>378</th>\n",
       "      <td>book-5</td>\n",
       "      <td>379</td>\n",
       "      <td>It is one way of reasoning. But on the other hand if one observes the extre...</td>\n",
       "      <td>1958-07-02</td>\n",
       "      <td>28</td>\n",
       "    </tr>\n",
       "    <tr>\n",
       "      <th>379</th>\n",
       "      <td>book-5</td>\n",
       "      <td>380</td>\n",
       "      <td>But I would say that by operating in this way, namely by legitimating when ...</td>\n",
       "      <td>1958-07-02</td>\n",
       "      <td>28</td>\n",
       "    </tr>\n",
       "    <tr>\n",
       "      <th>380</th>\n",
       "      <td>book-5</td>\n",
       "      <td>381</td>\n",
       "      <td>first person, no one ever supposed that to this \"Thou shalt love thy neighb...</td>\n",
       "      <td>1958-07-02</td>\n",
       "      <td>28</td>\n",
       "    </tr>\n",
       "  </tbody>\n",
       "</table>\n",
       "<p>381 rows × 5 columns</p>\n",
       "</div>"
      ],
      "text/plain": [
       "       book  page  \\\n",
       "0    book-5     1   \n",
       "1    book-5     2   \n",
       "2    book-5     3   \n",
       "3    book-5     4   \n",
       "4    book-5     5   \n",
       "..      ...   ...   \n",
       "376  book-5   377   \n",
       "377  book-5   378   \n",
       "378  book-5   379   \n",
       "379  book-5   380   \n",
       "380  book-5   381   \n",
       "\n",
       "                                                                             content  \\\n",
       "0     Seminar 1 : Wednesday 6 November 1957 This year we have taken the formation...   \n",
       "1                                                                                      \n",
       "2     Let me remind you then in the first place, since I have given you my three ...   \n",
       "3     point is essentially based on the principle of beginning with complex struc...   \n",
       "4     promise of heaven\", and \"why do you give up\". The term heaven and some othe...   \n",
       "..                                                                               ...   \n",
       "376   horizon of the word, and not in its immediacy, we would not have an obsessi...   \n",
       "377   The Christian logos in so far as he is the incarnate logos , gives a precis...   \n",
       "378   It is one way of reasoning. But on the other hand if one observes the extre...   \n",
       "379   But I would say that by operating in this way, namely by legitimating when ...   \n",
       "380   first person, no one ever supposed that to this \"Thou shalt love thy neighb...   \n",
       "\n",
       "          date  chapter  \n",
       "0   1957-11-06        1  \n",
       "1   1957-11-06        1  \n",
       "2   1957-11-06        1  \n",
       "3   1957-11-06        1  \n",
       "4   1957-11-06        1  \n",
       "..         ...      ...  \n",
       "376 1958-07-02       28  \n",
       "377 1958-07-02       28  \n",
       "378 1958-07-02       28  \n",
       "379 1958-07-02       28  \n",
       "380 1958-07-02       28  \n",
       "\n",
       "[381 rows x 5 columns]"
      ]
     },
     "execution_count": 69,
     "metadata": {},
     "output_type": "execute_result"
    }
   ],
   "source": [
    "df"
   ]
  },
  {
   "cell_type": "markdown",
   "metadata": {},
   "source": [
    "There is some noise due to segmentation\n",
    "\n",
    "-   p 237: \"butcher's\"\n"
   ]
  },
  {
   "cell_type": "code",
   "execution_count": 71,
   "metadata": {},
   "outputs": [],
   "source": [
    "df.to_feather(\"../data/preprocessing/book-5_pypdf_pages.feather\")"
   ]
  }
 ],
 "metadata": {
  "kernelspec": {
   "display_name": ".venv",
   "language": "python",
   "name": "python3"
  },
  "language_info": {
   "codemirror_mode": {
    "name": "ipython",
    "version": 3
   },
   "file_extension": ".py",
   "mimetype": "text/x-python",
   "name": "python",
   "nbconvert_exporter": "python",
   "pygments_lexer": "ipython3",
   "version": "3.10.12"
  }
 },
 "nbformat": 4,
 "nbformat_minor": 2
}
